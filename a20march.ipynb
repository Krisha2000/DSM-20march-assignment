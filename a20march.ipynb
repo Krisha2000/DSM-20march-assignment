{
 "cells": [
  {
   "cell_type": "markdown",
   "id": "dd09b811-d51f-45d2-a1ed-01964c34d379",
   "metadata": {},
   "source": [
    "# Quetion : 1"
   ]
  },
  {
   "cell_type": "markdown",
   "id": "b3619c69-0984-464c-854f-4524289567bd",
   "metadata": {},
   "source": [
    "Data encoding is the process of transforming data from one format to another format suitable for a particular purpose or application. In data science, data encoding is used to convert categorical data into numerical format, which can be easily used by machine learning algorithms for training and prediction."
   ]
  },
  {
   "cell_type": "markdown",
   "id": "ab915d79-c5c5-4a01-93ca-813dc2ce75cf",
   "metadata": {},
   "source": [
    "# Quetion : 2"
   ]
  },
  {
   "cell_type": "markdown",
   "id": "f48c653a-07c8-4488-84be-85f60f5a0d93",
   "metadata": {},
   "source": [
    "Nominal encoding is a technique used to encode categorical data where the categories do not have any order or hierarchy. In nominal encoding, each category is assigned a unique numerical value, usually starting from 0. For example, in a survey where participants are asked to select their favorite color, nominal encoding can be used to assign numerical values to each color category, such as 0 for red, 1 for blue, 2 for green, and so on."
   ]
  },
  {
   "cell_type": "markdown",
   "id": "b929e445-9082-4e0d-b0b1-39c1105fa6c2",
   "metadata": {},
   "source": [
    "# Quetion : 3"
   ]
  },
  {
   "cell_type": "markdown",
   "id": "da2f0fa2-717b-48aa-8f2c-1003b8dd6f35",
   "metadata": {},
   "source": [
    " Nominal encoding is preferred over one-hot encoding when the number of categories in the data is relatively small and there is no clear order or hierarchy between the categories. One practical example is when encoding data about the types of vehicles a person owns, such as car, truck, SUV, and motorcycle. In this case, using one-hot encoding would create too many columns and lead to the curse of dimensionality."
   ]
  },
  {
   "cell_type": "markdown",
   "id": "bd85c5e6-41b0-4306-a6fe-777214860b60",
   "metadata": {},
   "source": [
    "# Quetion : 4"
   ]
  },
  {
   "cell_type": "markdown",
   "id": "93c9d11c-0239-41f2-a3bf-56e31a2fb524",
   "metadata": {},
   "source": [
    "If the dataset contains categorical data with 5 unique values, label encoding can be used to transform the data into a format suitable for machine learning algorithms. This technique assigns a numerical label to each category, usually starting from 0. This choice is appropriate for datasets with a limited number of categories since one-hot encoding would result in a sparse matrix, which can be computationally expensive to handle."
   ]
  },
  {
   "cell_type": "markdown",
   "id": "448fa9d2-e5ac-4b9c-9f36-b8287b79a412",
   "metadata": {},
   "source": [
    "# Quetion : 5"
   ]
  },
  {
   "cell_type": "markdown",
   "id": "9fb4f67e-39d6-4546-8f2b-646bd51a3b93",
   "metadata": {},
   "source": [
    "If nominal encoding is used to transform two categorical columns with n and m unique categories, the total number of new columns created would be n + m. In this case, since there are 2 categorical columns with 5 unique values each, nominal encoding would create 10 new columns."
   ]
  },
  {
   "cell_type": "markdown",
   "id": "54b7f875-ca51-4bda-a01a-aefb436fa9df",
   "metadata": {},
   "source": [
    "# Quetion : 6"
   ]
  },
  {
   "cell_type": "code",
   "execution_count": null,
   "id": "131b137e-189c-42eb-86b4-ccc943390a6e",
   "metadata": {},
   "outputs": [],
   "source": []
  },
  {
   "cell_type": "markdown",
   "id": "116c20a3-dc6e-4d09-9b44-0429ef87b66f",
   "metadata": {},
   "source": [
    "# Quetion : 1"
   ]
  }
 ],
 "metadata": {
  "kernelspec": {
   "display_name": "Python 3 (ipykernel)",
   "language": "python",
   "name": "python3"
  },
  "language_info": {
   "codemirror_mode": {
    "name": "ipython",
    "version": 3
   },
   "file_extension": ".py",
   "mimetype": "text/x-python",
   "name": "python",
   "nbconvert_exporter": "python",
   "pygments_lexer": "ipython3",
   "version": "3.10.8"
  }
 },
 "nbformat": 4,
 "nbformat_minor": 5
}
